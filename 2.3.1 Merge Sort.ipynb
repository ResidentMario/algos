{
 "cells": [
  {
   "cell_type": "markdown",
   "metadata": {},
   "source": [
    "### Notes\n",
    "\n",
    "* Merge sort is divide-and-conquer.\n",
    "* It relies on a merge algorithm, which takes two sorted piles $P_1[p..q]$ and $P_2[q + 1..r]$ and renders them into one pile $A[p..r]$.\n",
    "* The merge algorithm places $n=r -p + 1$ cards in the pile, a fact we take advantage of to avoid ever checking if a list is empty. It is $O(n)$.\n",
    "* Merge sort recursively breaks an array into halves, and runs a merge sort on these halves."
   ]
  },
  {
   "cell_type": "markdown",
   "metadata": {},
   "source": [
    "### Python `merge` implementation"
   ]
  },
  {
   "cell_type": "code",
   "execution_count": 17,
   "metadata": {
    "collapsed": true
   },
   "outputs": [],
   "source": [
    "# The book implementation, with C-like details adapted to Python.\n",
    "\n",
    "def merge(p1, p2):\n",
    "    i = j = 0  # Starting indices\n",
    "    n = len(p1) + len(p2)  # Number of iterations to be used\n",
    "    ret = []  # The merged array we are building\n",
    "    # Sentinel values which cannot be exceeded on the comparison check.\n",
    "    p1.append(float(\"inf\"))\n",
    "    p2.append(float(\"inf\"))\n",
    "    # n is known to be the # of iterations needed, but we don't actually need the iter #.\n",
    "    for _ in range(n):\n",
    "        if p1[i] < p2[j]:\n",
    "            ret.append(p1[i])\n",
    "            i += 1\n",
    "        else:\n",
    "            ret.append(p2[j])\n",
    "            j += 1\n",
    "    return ret"
   ]
  },
  {
   "cell_type": "code",
   "execution_count": 18,
   "metadata": {
    "collapsed": false
   },
   "outputs": [
    {
     "data": {
      "text/plain": [
       "[1, 2, 3, 4]"
      ]
     },
     "execution_count": 18,
     "metadata": {},
     "output_type": "execute_result"
    }
   ],
   "source": [
    "merge([1,2],[3,4])"
   ]
  },
  {
   "cell_type": "code",
   "execution_count": 45,
   "metadata": {
    "collapsed": true
   },
   "outputs": [],
   "source": [
    "# A more Pythonic duck test implementation.\n",
    "\n",
    "def merge_alt(p1, p2):\n",
    "    ret = []  # The merged array we are building\n",
    "    while True:\n",
    "        try:\n",
    "            if p1[0] < p2[0]:\n",
    "                ret.append(p1.pop(0))\n",
    "            else:\n",
    "                ret.append(p2.pop(0))\n",
    "        except IndexError:\n",
    "            nonempty_array = p2 if (len(p1) == 0) else p1\n",
    "            ret += nonempty_array\n",
    "            return ret"
   ]
  },
  {
   "cell_type": "code",
   "execution_count": 46,
   "metadata": {
    "collapsed": false
   },
   "outputs": [
    {
     "data": {
      "text/plain": [
       "[1, 2, 3, 4]"
      ]
     },
     "execution_count": 46,
     "metadata": {},
     "output_type": "execute_result"
    }
   ],
   "source": [
    "merge_alt([1,2],[3,4])"
   ]
  },
  {
   "cell_type": "markdown",
   "metadata": {},
   "source": [
    "### Python `merge` tests"
   ]
  },
  {
   "cell_type": "code",
   "execution_count": 49,
   "metadata": {
    "collapsed": true
   },
   "outputs": [],
   "source": [
    "import hypothesis.strategies as st\n",
    "from hypothesis import given\n",
    "\n",
    "@given(a=st.lists(st.integers()), b=st.lists(st.integers()))\n",
    "def test_merge(a, b):\n",
    "    sorted(a + b) == merge(a, b)\n",
    "\n",
    "@given(a=st.lists(st.integers()), b=st.lists(st.integers()))\n",
    "def test_merge_alt(a, b):\n",
    "    sorted(a + b) == merge_alt(a, b)\n",
    "\n",
    "    \n",
    "test_merge()\n",
    "test_merge_alt()"
   ]
  },
  {
   "cell_type": "markdown",
   "metadata": {},
   "source": [
    "### Python `merge sort` implementation"
   ]
  },
  {
   "cell_type": "code",
   "execution_count": 50,
   "metadata": {
    "collapsed": true
   },
   "outputs": [],
   "source": [
    "def merge_sort(arr):\n",
    "    if len(arr) == 1: return arr\n",
    "    else:\n",
    "        pivot = int(len(arr) / 2)\n",
    "        a, b = merge_sort(arr[:pivot]), merge_sort(arr[pivot:])\n",
    "        return merge(a, b)"
   ]
  },
  {
   "cell_type": "code",
   "execution_count": 54,
   "metadata": {
    "collapsed": false
   },
   "outputs": [
    {
     "data": {
      "text/plain": [
       "[1, 2, 3, 4, 5, 6]"
      ]
     },
     "execution_count": 54,
     "metadata": {},
     "output_type": "execute_result"
    }
   ],
   "source": [
    "merge_sort([5,2,4,6,1,3])"
   ]
  },
  {
   "cell_type": "markdown",
   "metadata": {},
   "source": [
    "### Formal timing\n",
    "\n",
    "Splitting occurs $log(n)$ times and each merge is an $\\Theta (n)$ operation, making the overall algorithm $\\Theta(nlog(n))$.\n",
    "\n",
    "Neither the merge nor the splitting operations are affected by the order that the underlying data is in, so the best and worst cases are also $\\Theta(nlog(n))$. This is a disadvantage compared to other algorithms which *do* speed up when the data is in order. In practice, for this reason, merge sort is usually implemented with some kind of fast statistical entropy test in order to determine whether or not it is worth using."
   ]
  },
  {
   "cell_type": "markdown",
   "metadata": {},
   "source": [
    "### Python timing"
   ]
  },
  {
   "cell_type": "code",
   "execution_count": 55,
   "metadata": {
    "collapsed": true
   },
   "outputs": [],
   "source": [
    "from time import time\n",
    "\n",
    "def timer(func, *args, **kwargs):\n",
    "    start = time()\n",
    "    func(*args, **kwargs)\n",
    "    end = time()\n",
    "    return end - start"
   ]
  },
  {
   "cell_type": "code",
   "execution_count": 60,
   "metadata": {
    "collapsed": false
   },
   "outputs": [
    {
     "name": "stderr",
     "output_type": "stream",
     "text": [
      "C:\\Users\\Alex\\Anaconda3\\envs\\algos\\lib\\site-packages\\ipykernel\\__main__.py:9: VisibleDeprecationWarning: using a non-integer number instead of an integer will result in an error in the future\n"
     ]
    }
   ],
   "source": [
    "import numpy as np\n",
    "\n",
    "best = []\n",
    "mid = []\n",
    "worst = []\n",
    "\n",
    "ns = np.logspace(0, 4, num=40)\n",
    "for n in ns:\n",
    "    n_ints = np.random.random(n)\n",
    "    \n",
    "    mid.append(timer(merge_sort, list(n_ints)))\n",
    "    best.append(timer(merge_sort, list(sorted(n_ints))))\n",
    "    worst.append(timer(merge_sort, list(sorted(n_ints)[::-1])))"
   ]
  },
  {
   "cell_type": "code",
   "execution_count": 62,
   "metadata": {
    "collapsed": false
   },
   "outputs": [
    {
     "data": {
      "text/plain": [
       "<matplotlib.text.Text at 0x905e780>"
      ]
     },
     "execution_count": 62,
     "metadata": {},
     "output_type": "execute_result"
    },
    {
     "data": {
      "image/png": "[encoded data removed]",
      "text/plain": [
       "<matplotlib.figure.Figure at 0x7d7f278>"
      ]
     },
     "metadata": {},
     "output_type": "display_data"
    }
   ],
   "source": [
    "import matplotlib.pyplot as plt\n",
    "%matplotlib inline\n",
    "\n",
    "plt.plot(ns, best, color='green')\n",
    "plt.plot(ns, mid, color='blue')\n",
    "plt.plot(ns, worst, color='red')\n",
    "ax = plt.gca()\n",
    "ax.axis('off')\n",
    "plt.title(\"Merge Sort ($1 < n < 10000$)\")"
   ]
  },
  {
   "cell_type": "markdown",
   "metadata": {},
   "source": [
    "### JavaScript implementation"
   ]
  },
  {
   "cell_type": "code",
   "execution_count": 81,
   "metadata": {
    "collapsed": false
   },
   "outputs": [
    {
     "data": {
      "application/javascript": [
       "\n",
       "window.merge = function merge(p1, p2) {\n",
       "    // What I learned while writing this: the duck test implementation used in Python can't be done as easily in\n",
       "    // JavaScript because of the language's weirdness---asking for p1[i] for a non-existant index i will return null,\n",
       "    // *not* throw an exception. Wicked! So this code uses th book implementation.\n",
       "    var i = 0;\n",
       "    var j = 0;\n",
       "    var n = p1.length + p2.length;\n",
       "    var ret = [];\n",
       "    p1.push(Infinity);\n",
       "    p2.push(Infinity);\n",
       "    for (var c = 0; c < n; c++) {\n",
       "        if (p1[i] < p2[j]) {\n",
       "            ret.push(p1[i]);\n",
       "            i++;\n",
       "        }\n",
       "        else {\n",
       "            ret.push(p2[j]);\n",
       "            j++;\n",
       "        }\n",
       "    }\n",
       "    return ret;\n",
       "}\n",
       "\n",
       "window.merge_sort = function merge_sort(arr) {\n",
       "    debugger;\n",
       "    if (arr.length == 1) { return arr; }\n",
       "    else {\n",
       "        var pivot = Math.round(arr.length / 2);\n",
       "        var left = merge_sort(arr.slice(0, pivot));\n",
       "        var right = merge_sort(arr.slice(pivot));\n",
       "        return merge(left, right);\n",
       "    }\n",
       "}\n",
       "\n",
       "window.print = function(id, output) { document.getElementById(id).innerHTML = String(output) }"
      ],
      "text/plain": [
       "<IPython.core.display.Javascript object>"
      ]
     },
     "metadata": {},
     "output_type": "display_data"
    }
   ],
   "source": [
    "%%javascript\n",
    "\n",
    "window.merge = function merge(p1, p2) {\n",
    "    // What I learned while writing this: the duck test implementation used in Python can't be done as easily in\n",
    "    // JavaScript because of the language's weirdness---asking for p1[i] for a non-existant index i will return null,\n",
    "    // *not* throw an exception. Wicked! So this code uses th book implementation.\n",
    "    var i = 0;\n",
    "    var j = 0;\n",
    "    var n = p1.length + p2.length;\n",
    "    var ret = [];\n",
    "    p1.push(Infinity);\n",
    "    p2.push(Infinity);\n",
    "    for (var c = 0; c < n; c++) {\n",
    "        if (p1[i] < p2[j]) {\n",
    "            ret.push(p1[i]);\n",
    "            i++;\n",
    "        }\n",
    "        else {\n",
    "            ret.push(p2[j]);\n",
    "            j++;\n",
    "        }\n",
    "    }\n",
    "    return ret;\n",
    "}\n",
    "\n",
    "window.merge_sort = function merge_sort(arr) {\n",
    "    if (arr.length == 1) { return arr; }\n",
    "    else {\n",
    "        var pivot = Math.round(arr.length / 2);\n",
    "        var left = merge_sort(arr.slice(0, pivot));\n",
    "        var right = merge_sort(arr.slice(pivot));\n",
    "        return merge(left, right);\n",
    "    }\n",
    "}\n",
    "\n",
    "window.print = function(id, output) { document.getElementById(id).innerHTML = String(output) }"
   ]
  },
  {
   "cell_type": "code",
   "execution_count": 82,
   "metadata": {
    "collapsed": false
   },
   "outputs": [
    {
     "data": {
      "text/html": [
       "\n",
       "<g id=\"holder_1\"></g>\n",
       "<script>window.print(\"holder_1\", window.merge_sort([5,2,4,6,1,3]))</script>"
      ],
      "text/plain": [
       "<IPython.core.display.HTML object>"
      ]
     },
     "metadata": {},
     "output_type": "display_data"
    }
   ],
   "source": [
    "%%html\n",
    "\n",
    "<g id=\"holder_1\"></g>\n",
    "<script>window.print(\"holder_1\", window.merge_sort([5,2,4,6,1,3]))</script>"
   ]
  },
  {
   "cell_type": "code",
   "execution_count": 84,
   "metadata": {
    "collapsed": false
   },
   "outputs": [
    {
     "name": "stdout",
     "output_type": "stream",
     "text": [
      "\n",
      "\n",
      "  Merge Sort (JSVerify)\n",
      "    âˆš works\n",
      "\n",
      "\n",
      "  1 passing (7ms)\n",
      "\n"
     ]
    }
   ],
   "source": [
    "!mocha -g \"Merge Sort\""
   ]
  }
 ],
 "metadata": {
  "anaconda-cloud": {},
  "kernelspec": {
   "display_name": "Python [conda env:algos]",
   "language": "python",
   "name": "conda-env-algos-py"
  },
  "language_info": {
   "codemirror_mode": {
    "name": "ipython",
    "version": 3
   },
   "file_extension": ".py",
   "mimetype": "text/x-python",
   "name": "python",
   "nbconvert_exporter": "python",
   "pygments_lexer": "ipython3",
   "version": "3.5.2"
  }
 },
 "nbformat": 4,
 "nbformat_minor": 2
}
