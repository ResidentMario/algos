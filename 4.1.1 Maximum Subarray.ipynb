{
 "cells": [
  {
   "cell_type": "markdown",
   "metadata": {},
   "source": [
    "### Notes\n",
    "\n",
    "* The maximum subarray problem studies how to maximize a value amongst a certain number of values in a timeframe.\n",
    "* This is *not* the same as asking the range, because the min and max values may occur in the wrong order&mdash;start high, end low.\n",
    "* The book solution uses a tripartite recursive solution: maximize the left array, maximize the right array, and compute the true maximum of the middle array. \n",
    "* The middle array problem is *not* a subcase, since it requires passing through the middle. It can be solved by simply going backwards and forwards until hitting a negative value."
   ]
  },
  {
   "cell_type": "markdown",
   "metadata": {},
   "source": [
    "### Python implementation"
   ]
  },
  {
   "cell_type": "code",
   "execution_count": 52,
   "metadata": {
    "collapsed": false
   },
   "outputs": [],
   "source": [
    "def max_crossing_subarray(arr, low, mid, high):\n",
    "    left_sum = right_sum = -float('inf')\n",
    "    max_left = max_right = mid\n",
    "    sum_c = 0\n",
    "    for i in range(mid, low - 1,-1):\n",
    "        sum_c = sum_c + arr[i]\n",
    "        if sum_c > left_sum:\n",
    "            left_sum = sum_c\n",
    "            max_left = i\n",
    "    sum_c = 0\n",
    "    for j in range(mid + 1, high + 1):\n",
    "        sum_c = sum_c + arr[j]\n",
    "        if sum_c > right_sum:\n",
    "            right_sum = sum_c\n",
    "            max_right = j\n",
    "    # Note that we fencepost to get [0, ind_max + 1], because that's what fits into a Python range functions correctly.\n",
    "    # The book doesn't consider this detail...\n",
    "    return (max_left, max_right, sum(arr[max_left:max_right + 1]))"
   ]
  },
  {
   "cell_type": "code",
   "execution_count": 53,
   "metadata": {
    "collapsed": false
   },
   "outputs": [
    {
     "data": {
      "text/plain": [
       "(0, 2, 6)"
      ]
     },
     "execution_count": 53,
     "metadata": {},
     "output_type": "execute_result"
    }
   ],
   "source": [
    "max_crossing_subarray([1,2,3],0,1,2)"
   ]
  },
  {
   "cell_type": "code",
   "execution_count": 54,
   "metadata": {
    "collapsed": false
   },
   "outputs": [
    {
     "data": {
      "text/plain": [
       "(0, 3, 6)"
      ]
     },
     "execution_count": 54,
     "metadata": {},
     "output_type": "execute_result"
    }
   ],
   "source": [
    "max_crossing_subarray([1,-2,3,4],0,0,3)"
   ]
  },
  {
   "cell_type": "code",
   "execution_count": 55,
   "metadata": {
    "collapsed": true
   },
   "outputs": [],
   "source": [
    "def max_subarray(arr, low, high):\n",
    "    if high == low:\n",
    "        return low, high, arr[low]\n",
    "    else:\n",
    "        pivot = (high + low) // 2\n",
    "        \n",
    "        mid_low, mid_high, mid_sum = max_crossing_subarray(arr, low, pivot, high)\n",
    "        left_low, left_high, left_sum = max_subarray(arr, low, pivot)\n",
    "        right_low, right_high, right_sum = max_subarray(arr, pivot + 1, high)\n",
    "        if mid_sum > max(left_sum, right_sum):\n",
    "            return mid_low, mid_high, mid_sum\n",
    "        elif left_sum > max(mid_sum, right_sum):\n",
    "            return left_low, left_high, left_sum\n",
    "        else:\n",
    "            return right_low, right_high, right_sum"
   ]
  },
  {
   "cell_type": "code",
   "execution_count": 56,
   "metadata": {
    "collapsed": false
   },
   "outputs": [
    {
     "data": {
      "text/plain": [
       "(0, 3, 10)"
      ]
     },
     "execution_count": 56,
     "metadata": {},
     "output_type": "execute_result"
    }
   ],
   "source": [
    "max_subarray([1,2,3,4], 0, 3)"
   ]
  },
  {
   "cell_type": "code",
   "execution_count": 57,
   "metadata": {
    "collapsed": false
   },
   "outputs": [
    {
     "data": {
      "text/plain": [
       "(3, 3, 4)"
      ]
     },
     "execution_count": 57,
     "metadata": {},
     "output_type": "execute_result"
    }
   ],
   "source": [
    "max_subarray([1,2,-3,4], 0, 3)"
   ]
  },
  {
   "cell_type": "markdown",
   "metadata": {},
   "source": [
    "### Formal timing\n",
    "\n",
    "`max_crossing_subarray` is $\\Theta(n)$. `max_subarray` uses a binary traversal to arrive at each `max_crossing_subarray` execution, so the overall algorithm is $\\Theta[n\\log(n)]$.\n",
    "\n",
    "Worst-case performance occurs in case the list of values is totally positive, because the pivot decomposition will ignore it while `max_cross_subarray` will loop the maximum possible number of times every time. The O-class is the same, however. Best-case performance is a single positive number; again the O-class will be the same. But, there will be a high constant factor cost in this case."
   ]
  },
  {
   "cell_type": "code",
   "execution_count": 58,
   "metadata": {
    "collapsed": true
   },
   "outputs": [],
   "source": [
    "from time import time\n",
    "\n",
    "def timer(func, *args, **kwargs):\n",
    "    start = time()\n",
    "    func(*args, **kwargs)\n",
    "    end = time()\n",
    "    return end - start"
   ]
  },
  {
   "cell_type": "code",
   "execution_count": 61,
   "metadata": {
    "collapsed": false
   },
   "outputs": [
    {
     "name": "stderr",
     "output_type": "stream",
     "text": [
      "/Users/Honors/anaconda/envs/algos/lib/python3.5/site-packages/ipykernel/__main__.py:9: VisibleDeprecationWarning: using a non-integer number instead of an integer will result in an error in the future\n"
     ]
    }
   ],
   "source": [
    "import numpy as np\n",
    "\n",
    "best = []\n",
    "mid = []\n",
    "worst = []\n",
    "\n",
    "ns = np.logspace(0, 5, num=40)\n",
    "for n in ns:\n",
    "    n_ints = np.random.random(n)\n",
    "    \n",
    "    mid.append(timer(max_subarray, n_ints, 0, len(n_ints) - 1))\n",
    "    worst.append(timer(max_subarray, np.abs(n_ints), 0, len(n_ints) - 1))\n",
    "    best.append(timer(max_subarray, -np.abs(n_ints) + [2], 0, len(n_ints) - 1))"
   ]
  },
  {
   "cell_type": "code",
   "execution_count": 63,
   "metadata": {
    "collapsed": false
   },
   "outputs": [
    {
     "data": {
      "text/plain": [
       "<matplotlib.text.Text at 0x10da58be0>"
      ]
     },
     "execution_count": 63,
     "metadata": {},
     "output_type": "execute_result"
    },
    {
     "data": {
      "image/png": "[encoded data removed]",
      "text/plain": [
       "<matplotlib.figure.Figure at 0x109e7ae48>"
      ]
     },
     "metadata": {},
     "output_type": "display_data"
    }
   ],
   "source": [
    "import matplotlib.pyplot as plt\n",
    "%matplotlib inline\n",
    "\n",
    "plt.plot(ns, best, color='green')\n",
    "plt.plot(ns, mid, color='blue')\n",
    "plt.plot(ns, worst, color='red')\n",
    "ax = plt.gca()\n",
    "ax.axis('off')\n",
    "plt.title(\"Maximum Subarray ($1 < n < 100000$)\")"
   ]
  },
  {
   "cell_type": "markdown",
   "metadata": {},
   "source": [
    "### JavaScript implementation"
   ]
  },
  {
   "cell_type": "code",
   "execution_count": 6,
   "metadata": {
    "collapsed": false
   },
   "outputs": [
    {
     "data": {
      "application/javascript": [
       "\n",
       "window.max_crossing_subarray = function max_crossing_subarray(arr, low, mid, high) {\n",
       "    let left_sum = -Infinity;\n",
       "    let right_sum = -Infinity;\n",
       "    let max_left = mid;\n",
       "    let max_right = mid;\n",
       "\n",
       "    let sum_c = 0;\n",
       "    for (let i = mid; i > low - 1; i--) {\n",
       "        sum_c = sum_c + arr[i];\n",
       "        if (sum_c > left_sum) { left_sum = sum_c; max_left = i; }\n",
       "    }\n",
       "    sum_c = 0;\n",
       "    for (let j = mid + 1; j < high + 1; j++) {\n",
       "        sum_c = sum_c + arr[j];\n",
       "        if (sum_c > right_sum) { right_sum = sum_c; max_right = j; }\n",
       "    }\n",
       "\n",
       "    return [max_left, max_right, left_sum + right_sum]\n",
       "}\n",
       "\n",
       "window.max_subarray = function max_subarray(arr, low, high) {\n",
       "    if (high == low) { return [low, high, arr[low]]; }\n",
       "    else {\n",
       "        debugger;\n",
       "        let pivot = Math.floor((high + low) / 2);\n",
       "        console.log(pivot);\n",
       "        let [mid_low, mid_high, mid_sum] = max_crossing_subarray(arr, low, pivot, high);\n",
       "        let [left_low, left_high, left_sum] = max_subarray(arr, low, pivot);\n",
       "        let [right_low, right_high, right_sum] = max_subarray(arr, pivot + 1, high);\n",
       "\n",
       "        if (mid_sum > Math.max(left_sum, right_sum)) { return [mid_low, mid_high, mid_sum]; }\n",
       "        else if (left_sum > Math.max(mid_sum, right_sum)) { return [left_low, left_high, left_sum]; }\n",
       "        else { return [right_low, right_high, right_sum]; }\n",
       "    }\n",
       "}\n",
       "\n",
       "window.print = function(id, output) { document.getElementById(id).innerHTML = String(output) }"
      ],
      "text/plain": [
       "<IPython.core.display.Javascript object>"
      ]
     },
     "metadata": {},
     "output_type": "display_data"
    }
   ],
   "source": [
    "%%javascript\n",
    "\n",
    "window.max_crossing_subarray = function max_crossing_subarray(arr, low, mid, high) {\n",
    "    let left_sum = -Infinity;\n",
    "    let right_sum = -Infinity;\n",
    "    let max_left = mid;\n",
    "    let max_right = mid;\n",
    "\n",
    "    let sum_c = 0;\n",
    "    for (let i = mid; i > low - 1; i--) {\n",
    "        sum_c = sum_c + arr[i];\n",
    "        if (sum_c > left_sum) { left_sum = sum_c; max_left = i; }\n",
    "    }\n",
    "    sum_c = 0;\n",
    "    for (let j = mid + 1; j < high + 1; j++) {\n",
    "        sum_c = sum_c + arr[j];\n",
    "        if (sum_c > right_sum) { right_sum = sum_c; max_right = j; }\n",
    "    }\n",
    "\n",
    "    return [max_left, max_right, left_sum + right_sum]\n",
    "}\n",
    "\n",
    "window.max_subarray = function max_subarray(arr, low, high) {\n",
    "    if (high == low) { return [low, high, arr[low]]; }\n",
    "    else {\n",
    "        debugger;\n",
    "        let pivot = Math.floor((high + low) / 2);\n",
    "        console.log(pivot);\n",
    "        let [mid_low, mid_high, mid_sum] = max_crossing_subarray(arr, low, pivot, high);\n",
    "        let [left_low, left_high, left_sum] = max_subarray(arr, low, pivot);\n",
    "        let [right_low, right_high, right_sum] = max_subarray(arr, pivot + 1, high);\n",
    "\n",
    "        if (mid_sum > Math.max(left_sum, right_sum)) { return [mid_low, mid_high, mid_sum]; }\n",
    "        else if (left_sum > Math.max(mid_sum, right_sum)) { return [left_low, left_high, left_sum]; }\n",
    "        else { return [right_low, right_high, right_sum]; }\n",
    "    }\n",
    "}\n",
    "\n",
    "window.print = function(id, output) { document.getElementById(id).innerHTML = String(output) }"
   ]
  },
  {
   "cell_type": "code",
   "execution_count": 7,
   "metadata": {
    "collapsed": false
   },
   "outputs": [
    {
     "data": {
      "text/html": [
       "\n",
       "<g id=\"holder_1\"></g>\n",
       "<script>window.print(\"holder_1\", window.max_subarray([5,2,4,6,1,3], 0, 5))</script>"
      ],
      "text/plain": [
       "<IPython.core.display.HTML object>"
      ]
     },
     "metadata": {},
     "output_type": "display_data"
    }
   ],
   "source": [
    "%%html\n",
    "\n",
    "<g id=\"holder_1\"></g>\n",
    "<script>window.print(\"holder_1\", window.max_subarray([5,2,4,6,1,3], 0, 5))</script>"
   ]
  },
  {
   "cell_type": "code",
   "execution_count": 8,
   "metadata": {
    "collapsed": false
   },
   "outputs": [
    {
     "name": "stdout",
     "output_type": "stream",
     "text": [
      "\n",
      "\n",
      "  Max Subarray (Mocha)\n",
      "    âˆš works with an empty list\n",
      "    âˆš works with a negative unitary list\n",
      "    âˆš works with a positive unitary list\n",
      "    âˆš works with a totally negative list\n",
      "    âˆš works with a totally positive list\n",
      "    âˆš works with a mixed list\n",
      "\n",
      "\n",
      "  6 passing (5ms)\n",
      "\n"
     ]
    }
   ],
   "source": [
    "!mocha -g \"Max Subarray\""
   ]
  }
 ],
 "metadata": {
  "anaconda-cloud": {},
  "kernelspec": {
   "display_name": "Python [conda env:algos]",
   "language": "python",
   "name": "conda-env-algos-py"
  },
  "language_info": {
   "codemirror_mode": {
    "name": "ipython",
    "version": 3
   },
   "file_extension": ".py",
   "mimetype": "text/x-python",
   "name": "python",
   "nbconvert_exporter": "python",
   "pygments_lexer": "ipython3",
   "version": "3.5.2"
  }
 },
 "nbformat": 4,
 "nbformat_minor": 2
}
