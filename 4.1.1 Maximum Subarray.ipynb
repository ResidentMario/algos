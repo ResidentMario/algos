{
 "cells": [
  {
   "cell_type": "markdown",
   "metadata": {},
   "source": [
    "### Notes\n",
    "\n",
    "* The maximum subarray problem studies how to maximize a value amongst a certain number of values in a timeframe.\n",
    "* This is *not* the same as asking the range, because the min and max values may occur in the wrong order&mdash;start high, end low.\n",
    "* The book solution uses a tripartite recursive solution: maximize the left array, maximize the right array, and compute the true maximum of the middle array. \n",
    "* The middle array problem is *not* a subcase, since it requires passing through the middle. It can be solved by simply going backwards and forwards until hitting a negative value."
   ]
  },
  {
   "cell_type": "markdown",
   "metadata": {},
   "source": [
    "### Python implementation"
   ]
  },
  {
   "cell_type": "code",
   "execution_count": 200,
   "metadata": {
    "collapsed": false
   },
   "outputs": [],
   "source": [
    "def max_crossing_subarray(arr, low, mid, high):\n",
    "    left_sum = right_sum = -float('inf')\n",
    "    max_left = max_right = mid\n",
    "    sum_c = 0\n",
    "    for i in range(mid, low - 1,-1):\n",
    "        sum_c = sum_c + arr[i]\n",
    "        if sum_c > left_sum:\n",
    "            left_sum = sum_c\n",
    "            max_left = i\n",
    "    sum_c = 0\n",
    "    for j in range(mid + 1, high + 1):\n",
    "        sum_c = sum_c + arr[i]\n",
    "        if sum_c > right_sum:\n",
    "            right_sum = sum_c\n",
    "            max_right = j\n",
    "    # Note that we fencepost to get [0, ind_max + 1], because that's what fits into a Python range functions correctly.\n",
    "    # The book doesn't consider this detail...\n",
    "    return (max_left, max_right, sum(arr[max_left:max_right + 1]))"
   ]
  },
  {
   "cell_type": "code",
   "execution_count": 201,
   "metadata": {
    "collapsed": false
   },
   "outputs": [
    {
     "data": {
      "text/plain": [
       "(0, 4, 6)"
      ]
     },
     "execution_count": 201,
     "metadata": {},
     "output_type": "execute_result"
    }
   ],
   "source": [
    "max_crossing_subarray([1,2,3],0,2,4)"
   ]
  },
  {
   "cell_type": "code",
   "execution_count": 202,
   "metadata": {
    "collapsed": false
   },
   "outputs": [
    {
     "data": {
      "text/plain": [
       "(0, 4, 6)"
      ]
     },
     "execution_count": 202,
     "metadata": {},
     "output_type": "execute_result"
    }
   ],
   "source": [
    "max_crossing_subarray([1,-2,3,4],0,0,4)"
   ]
  },
  {
   "cell_type": "code",
   "execution_count": 207,
   "metadata": {
    "collapsed": true
   },
   "outputs": [],
   "source": [
    "def max_subarray(arr, low, high):\n",
    "    if high == low:\n",
    "        return low, high, arr[low]\n",
    "    else:\n",
    "        pivot = (high + low) // 2\n",
    "        \n",
    "        mid_low, mid_high, mid_sum = max_crossing_subarray(arr, low, pivot, high)\n",
    "        left_low, left_high, left_sum = max_subarray(arr, low, pivot)\n",
    "        right_low, right_high, right_sum = max_subarray(arr, pivot + 1, high)\n",
    "        if mid_sum > max(left_sum, right_sum):\n",
    "            return mid_low, mid_high, mid_sum\n",
    "        elif left_sum > max(mid_sum, right_sum):\n",
    "            return left_low, left_high, left_sum\n",
    "        else:\n",
    "            return right_low, right_high, right_sum"
   ]
  },
  {
   "cell_type": "code",
   "execution_count": 210,
   "metadata": {
    "collapsed": false
   },
   "outputs": [
    {
     "data": {
      "text/plain": [
       "(0, 3, 10)"
      ]
     },
     "execution_count": 210,
     "metadata": {},
     "output_type": "execute_result"
    }
   ],
   "source": [
    "max_subarray([1,2,3,4], 0, 3)"
   ]
  },
  {
   "cell_type": "code",
   "execution_count": 211,
   "metadata": {
    "collapsed": false
   },
   "outputs": [
    {
     "data": {
      "text/plain": [
       "(3, 3, 4)"
      ]
     },
     "execution_count": 211,
     "metadata": {},
     "output_type": "execute_result"
    }
   ],
   "source": [
    "max_subarray([1,2,-3,4], 0, 3)"
   ]
  }
 ],
 "metadata": {
  "anaconda-cloud": {},
  "kernelspec": {
   "display_name": "Python [conda env:algos]",
   "language": "python",
   "name": "conda-env-algos-py"
  },
  "language_info": {
   "codemirror_mode": {
    "name": "ipython",
    "version": 3
   },
   "file_extension": ".py",
   "mimetype": "text/x-python",
   "name": "python",
   "nbconvert_exporter": "python",
   "pygments_lexer": "ipython3",
   "version": "3.5.2"
  }
 },
 "nbformat": 4,
 "nbformat_minor": 2
}
