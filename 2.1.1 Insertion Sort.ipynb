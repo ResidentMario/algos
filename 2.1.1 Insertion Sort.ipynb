{
 "cells": [
  {
   "cell_type": "markdown",
   "metadata": {},
   "source": [
    "### Notes\n",
    "\n",
    "* Insertion sort is the simplest comprehensive sort type.\n",
    "* It parallells the way that people sort playing cards in-hand.\n",
    "* It is simple to implement and fast for small numbers of elements."
   ]
  },
  {
   "cell_type": "markdown",
   "metadata": {},
   "source": [
    "### Python implementation"
   ]
  },
  {
   "cell_type": "code",
   "execution_count": 8,
   "metadata": {
    "collapsed": false
   },
   "outputs": [],
   "source": [
    "def insertion_sort(a):\n",
    "    for j in range(1, len(a)):\n",
    "        key = a[j]\n",
    "        i = j - 1\n",
    "        while (i > -1 and a[i] > key):\n",
    "            a[i + 1] = a[i]\n",
    "            i -= 1\n",
    "        a[i + 1] = key\n",
    "    return a"
   ]
  },
  {
   "cell_type": "code",
   "execution_count": 36,
   "metadata": {
    "collapsed": false
   },
   "outputs": [
    {
     "data": {
      "text/plain": [
       "[1, 2, 3, 4, 5, 6]"
      ]
     },
     "execution_count": 36,
     "metadata": {},
     "output_type": "execute_result"
    }
   ],
   "source": [
    "insertion_sort([5,2,4,6,1,3])"
   ]
  },
  {
   "cell_type": "code",
   "execution_count": 39,
   "metadata": {
    "collapsed": true
   },
   "outputs": [],
   "source": [
    "def insertion_sort_alt(a):\n",
    "    for j in range(1, len(a)):\n",
    "        key = a[j]\n",
    "        i = j - 1\n",
    "        while (i > -1 and a[i] > key):\n",
    "            a[i + 1], a[i] = a[i], a[i + 1]\n",
    "            i -= 1\n",
    "    return a"
   ]
  },
  {
   "cell_type": "code",
   "execution_count": 40,
   "metadata": {
    "collapsed": false
   },
   "outputs": [
    {
     "data": {
      "text/plain": [
       "[1, 2, 3, 4, 5, 6]"
      ]
     },
     "execution_count": 40,
     "metadata": {},
     "output_type": "execute_result"
    }
   ],
   "source": [
    "insertion_sort_alt([5,2,4,6,1,3])"
   ]
  },
  {
   "cell_type": "markdown",
   "metadata": {},
   "source": [
    "### Python tests"
   ]
  },
  {
   "cell_type": "code",
   "execution_count": 50,
   "metadata": {
    "collapsed": false
   },
   "outputs": [],
   "source": [
    "import hypothesis.strategies as st\n",
    "from hypothesis import given\n",
    "\n",
    "@given(a=st.lists(st.integers()))\n",
    "def test_insertion_sort(a):\n",
    "    all(a[i - 1] < a[i] for i in range(len(a)))\n",
    "    \n",
    "@given(a=st.lists(st.integers()))\n",
    "def test_insertion_sort_alt(a):\n",
    "    all(a[i - 1] < a[i] for i in range(len(a)))\n",
    "    \n",
    "test_insertion_sort()\n",
    "test_insertion_sort_alt()"
   ]
  },
  {
   "cell_type": "markdown",
   "metadata": {},
   "source": [
    "### JavaScript implementation"
   ]
  },
  {
   "cell_type": "code",
   "execution_count": 23,
   "metadata": {
    "collapsed": false
   },
   "outputs": [
    {
     "data": {
      "application/javascript": [
       "\n",
       "window.insertion_sort = function insertion_sort(a) {\n",
       "    let j = null;\n",
       "    let i = null;\n",
       "    for (j=1; j < a.length; j++) {\n",
       "        let key = a[j];\n",
       "        i = j - 1;\n",
       "        while (i > -1 & a[i] > key) {\n",
       "            a[i + 1] = a[i];\n",
       "            i--;\n",
       "        }\n",
       "        a[i + 1] = key;\n",
       "    }\n",
       "    return a;\n",
       "}\n",
       "\n",
       "window.print = function(id, output) { document.getElementById(id).innerHTML = String(output) }"
      ],
      "text/plain": [
       "<IPython.core.display.Javascript object>"
      ]
     },
     "metadata": {},
     "output_type": "display_data"
    }
   ],
   "source": [
    "%%javascript\n",
    "\n",
    "window.insertion_sort = function insertion_sort(a) {\n",
    "    let j = null;\n",
    "    let i = null;\n",
    "    for (j=1; j < a.length; j++) {\n",
    "        let key = a[j];\n",
    "        i = j - 1;\n",
    "        while (i > -1 && a[i] > key) {\n",
    "            a[i + 1] = a[i];\n",
    "            i--;\n",
    "        }\n",
    "        a[i + 1] = key;\n",
    "    }\n",
    "    return a;\n",
    "}\n",
    "\n",
    "window.print = function(id, output) { document.getElementById(id).innerHTML = String(output) }"
   ]
  },
  {
   "cell_type": "code",
   "execution_count": 25,
   "metadata": {
    "collapsed": false
   },
   "outputs": [
    {
     "data": {
      "text/html": [
       "\n",
       "<g id=\"holder_1\"></g>\n",
       "<script>window.print(\"holder_1\", window.insertion_sort([5,2,4,6,1,3]))</script>"
      ],
      "text/plain": [
       "<IPython.core.display.HTML object>"
      ]
     },
     "metadata": {},
     "output_type": "display_data"
    }
   ],
   "source": [
    "%%html\n",
    "\n",
    "<g id=\"holder_1\"></g>\n",
    "<script>window.print(\"holder_1\", window.insertion_sort([5,2,4,6,1,3]))</script>"
   ]
  },
  {
   "cell_type": "markdown",
   "metadata": {},
   "source": [
    "### JavaScript tests"
   ]
  },
  {
   "cell_type": "markdown",
   "metadata": {},
   "source": [
    "*I run these via `node` using `mocha -g <Algo Name>`.*"
   ]
  },
  {
   "cell_type": "code",
   "execution_count": 1,
   "metadata": {
    "collapsed": false
   },
   "outputs": [
    {
     "name": "stdout",
     "output_type": "stream",
     "text": [
      "\n",
      "\n",
      "  Insertion Sort (JSVerify)\n",
      "    âˆš returns an empty list when the list is empty\n",
      "\n",
      "  Insertion Sort (Mocha)\n",
      "    âˆš returns an empty list when the list is empty\n",
      "    âˆš returns the same element when the list contains a single element\n",
      "    âˆš returns elements in sorted order when there are many of them\n",
      "\n",
      "\n",
      "  4 passing (9ms)\n",
      "\n"
     ]
    }
   ],
   "source": [
    "!mocha -g \"Insertion Sort\""
   ]
  },
  {
   "cell_type": "markdown",
   "metadata": {
    "collapsed": true
   },
   "source": [
    "### Formal proof of correctness\n",
    "\n",
    "*I will usually omit this, unless you're writing a paper passing (well-written) tests is more important.*"
   ]
  },
  {
   "cell_type": "markdown",
   "metadata": {},
   "source": [
    "### Formal timing\n",
    "\n",
    "Insertion sort requires a `for-while` loop, meaning it is $O(n^2)$.\n",
    "\n",
    "In the best case, the list is already in order, requiring $n - 1$ comparisons. In the worst case, the list is in reverse order, requiring $(n - 1)^2$ comparisons."
   ]
  },
  {
   "cell_type": "markdown",
   "metadata": {},
   "source": [
    "### Python timing"
   ]
  },
  {
   "cell_type": "code",
   "execution_count": 42,
   "metadata": {
    "collapsed": true
   },
   "outputs": [],
   "source": [
    "from time import time\n",
    "\n",
    "def timer(func, *args, **kwargs):\n",
    "    start = time()\n",
    "    func(*args, **kwargs)\n",
    "    end = time()\n",
    "    return end - start"
   ]
  },
  {
   "cell_type": "code",
   "execution_count": 76,
   "metadata": {
    "collapsed": false,
    "scrolled": true
   },
   "outputs": [
    {
     "name": "stderr",
     "output_type": "stream",
     "text": [
      "C:\\Users\\Alex\\Anaconda3\\envs\\algos\\lib\\site-packages\\ipykernel\\__main__.py:10: VisibleDeprecationWarning: using a non-integer number instead of an integer will result in an error in the future\n"
     ]
    }
   ],
   "source": [
    "import numpy as np\n",
    "\n",
    "best = []\n",
    "mid = []\n",
    "worst = []\n",
    "\n",
    "ns = np.logspace(0, 3, num=40)\n",
    "for n in ns:\n",
    "    n_ints = np.random.random(n)\n",
    "    \n",
    "    mid.append(timer(insertion_sort, n_ints))\n",
    "    best.append(timer(insertion_sort, sorted(n_ints)))\n",
    "    worst.append(timer(insertion_sort, sorted(n_ints)[::-1]))"
   ]
  },
  {
   "cell_type": "code",
   "execution_count": 82,
   "metadata": {
    "collapsed": false
   },
   "outputs": [
    {
     "data": {
      "text/plain": [
       "<matplotlib.text.Text at 0x8f79240>"
      ]
     },
     "execution_count": 82,
     "metadata": {},
     "output_type": "execute_result"
    },
    {
     "data": {
      "image/png": "[encoded data removed]",
      "text/plain": [
       "<matplotlib.figure.Figure at 0x90f3550>"
      ]
     },
     "metadata": {},
     "output_type": "display_data"
    }
   ],
   "source": [
    "import matplotlib.pyplot as plt\n",
    "%matplotlib inline\n",
    "\n",
    "plt.plot(ns, best, color='green')\n",
    "plt.plot(ns, mid, color='blue')\n",
    "plt.plot(ns, worst, color='red')\n",
    "ax = plt.gca()\n",
    "ax.axis('off')\n",
    "plt.title(\"Insertion Sort ($1 < n < 1000$)\")"
   ]
  }
 ],
 "metadata": {
  "anaconda-cloud": {},
  "kernelspec": {
   "display_name": "Python [conda env:algos]",
   "language": "python",
   "name": "conda-env-algos-py"
  },
  "language_info": {
   "codemirror_mode": {
    "name": "ipython",
    "version": 3
   },
   "file_extension": ".py",
   "mimetype": "text/x-python",
   "name": "python",
   "nbconvert_exporter": "python",
   "pygments_lexer": "ipython3",
   "version": "3.5.2"
  }
 },
 "nbformat": 4,
 "nbformat_minor": 2
}
