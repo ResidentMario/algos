{
 "cells": [
  {
   "cell_type": "markdown",
   "metadata": {},
   "source": [
    "### Notes\n",
    "\n",
    "* Insertion sort is the simplest comprehensive sort type.\n",
    "* It parallells the way that people sort playing cards in-hand.\n",
    "* It is simple to implement and fast for small numbers of elements."
   ]
  },
  {
   "cell_type": "markdown",
   "metadata": {},
   "source": [
    "### Python implementation"
   ]
  },
  {
   "cell_type": "code",
   "execution_count": 35,
   "metadata": {
    "collapsed": false
   },
   "outputs": [],
   "source": [
    "def insertion_sort(a):\n",
    "    for j in range(1, len(a)):\n",
    "        key = a[j]\n",
    "        i = j - 1\n",
    "        while (i > -1 and a[i] > key):\n",
    "            a[i + 1] = a[i]\n",
    "            i -= 1\n",
    "        a[i + 1] = key\n",
    "    return a"
   ]
  },
  {
   "cell_type": "code",
   "execution_count": 36,
   "metadata": {
    "collapsed": false
   },
   "outputs": [
    {
     "data": {
      "text/plain": [
       "[1, 2, 3, 4, 5, 6]"
      ]
     },
     "execution_count": 36,
     "metadata": {},
     "output_type": "execute_result"
    }
   ],
   "source": [
    "insertion_sort([5,2,4,6,1,3])"
   ]
  },
  {
   "cell_type": "code",
   "execution_count": 39,
   "metadata": {
    "collapsed": true
   },
   "outputs": [],
   "source": [
    "def insertion_sort_alt(a):\n",
    "    for j in range(1, len(a)):\n",
    "        key = a[j]\n",
    "        i = j - 1\n",
    "        while (i > -1 and a[i] > key):\n",
    "            a[i + 1], a[i] = a[i], a[i + 1]\n",
    "            i -= 1\n",
    "    return a"
   ]
  },
  {
   "cell_type": "code",
   "execution_count": 40,
   "metadata": {
    "collapsed": false
   },
   "outputs": [
    {
     "data": {
      "text/plain": [
       "[1, 2, 3, 4, 5, 6]"
      ]
     },
     "execution_count": 40,
     "metadata": {},
     "output_type": "execute_result"
    }
   ],
   "source": [
    "insertion_sort_alt([5,2,4,6,1,3])"
   ]
  },
  {
   "cell_type": "markdown",
   "metadata": {},
   "source": [
    "### Python tests"
   ]
  },
  {
   "cell_type": "code",
   "execution_count": 50,
   "metadata": {
    "collapsed": false
   },
   "outputs": [],
   "source": [
    "import hypothesis.strategies as st\n",
    "from hypothesis import given\n",
    "\n",
    "@given(a=st.lists(st.integers()))\n",
    "def test_insertion_sort(a):\n",
    "    all(a[i - 1] < a[i] for i in range(len(a)))\n",
    "    \n",
    "@given(a=st.lists(st.integers()))\n",
    "def test_insertion_sort_alt(a):\n",
    "    all(a[i - 1] < a[i] for i in range(len(a)))\n",
    "    \n",
    "test_insertion_sort()\n",
    "test_insertion_sort_alt()"
   ]
  },
  {
   "cell_type": "markdown",
   "metadata": {},
   "source": [
    "### JavaScript implementation"
   ]
  },
  {
   "cell_type": "code",
   "execution_count": 23,
   "metadata": {
    "collapsed": false
   },
   "outputs": [
    {
     "data": {
      "application/javascript": [
       "\n",
       "window.insertion_sort = function insertion_sort(a) {\n",
       "    var j = null;\n",
       "    var i = null;\n",
       "    for (j=1; j < a.length; j++) {\n",
       "        var key = a[j];\n",
       "        i = j - 1;\n",
       "        while (i > -1 & a[i] > key) {\n",
       "            a[i + 1] = a[i];\n",
       "            i--;\n",
       "        }\n",
       "        a[i + 1] = key;\n",
       "    }\n",
       "    return a;\n",
       "}\n",
       "\n",
       "window.print = function(id, output) { document.getElementById(id).innerHTML = String(output) }"
      ],
      "text/plain": [
       "<IPython.core.display.Javascript object>"
      ]
     },
     "metadata": {},
     "output_type": "display_data"
    }
   ],
   "source": [
    "%%javascript\n",
    "\n",
    "window.insertion_sort = function insertion_sort(a) {\n",
    "    var j = null;\n",
    "    var i = null;\n",
    "    for (j=1; j < a.length; j++) {\n",
    "        var key = a[j];\n",
    "        i = j - 1;\n",
    "        while (i > -1 && a[i] > key) {\n",
    "            a[i + 1] = a[i];\n",
    "            i--;\n",
    "        }\n",
    "        a[i + 1] = key;\n",
    "    }\n",
    "    return a;\n",
    "}\n",
    "\n",
    "window.print = function(id, output) { document.getElementById(id).innerHTML = String(output) }"
   ]
  },
  {
   "cell_type": "code",
   "execution_count": 25,
   "metadata": {
    "collapsed": false
   },
   "outputs": [
    {
     "data": {
      "text/html": [
       "\n",
       "<g id=\"holder_1\"></g>\n",
       "<script>window.print(\"holder_1\", window.insertion_sort([5,2,4,6,1,3]))</script>"
      ],
      "text/plain": [
       "<IPython.core.display.HTML object>"
      ]
     },
     "metadata": {},
     "output_type": "display_data"
    }
   ],
   "source": [
    "%%html\n",
    "\n",
    "<g id=\"holder_1\"></g>\n",
    "<script>window.print(\"holder_1\", window.insertion_sort([5,2,4,6,1,3]))</script>"
   ]
  },
  {
   "cell_type": "markdown",
   "metadata": {},
   "source": [
    "### JavaScript tests"
   ]
  },
  {
   "cell_type": "markdown",
   "metadata": {},
   "source": [
    "*I did not find a way to run tests inline in a Jupyter notebook. Instead, I run them via `node` using `mocha -g <Algo Name>`.*"
   ]
  },
  {
   "cell_type": "code",
   "execution_count": null,
   "metadata": {
    "collapsed": true
   },
   "outputs": [],
   "source": []
  }
 ],
 "metadata": {
  "kernelspec": {
   "display_name": "Python [conda env:algos]",
   "language": "python",
   "name": "conda-env-algos-py"
  },
  "language_info": {
   "codemirror_mode": {
    "name": "ipython",
    "version": 3
   },
   "file_extension": ".py",
   "mimetype": "text/x-python",
   "name": "python",
   "nbconvert_exporter": "python",
   "pygments_lexer": "ipython3",
   "version": "3.5.2"
  }
 },
 "nbformat": 4,
 "nbformat_minor": 2
}
