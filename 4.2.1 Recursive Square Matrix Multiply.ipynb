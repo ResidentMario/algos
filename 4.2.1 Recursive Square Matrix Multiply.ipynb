{
 "cells": [
  {
   "cell_type": "markdown",
   "metadata": {},
   "source": [
    "### Notes\n",
    "\n",
    "* Matrix multiplication is one of the most fundamental computer operations. It's been heavily optimized over the years.\n",
    "* The naive algorithm taught as the definition of matrix multiplication is $\\Theta(n^3)$.\n",
    "* Strassen's method is $\\Theta(n^{\\log(7)})$, which is asymptotically faster. There's an even faster algorithm for extremely large arrays, though.\n",
    "* A fast implementation of this method requires that no array copying take place. This is trivial in C or C++, but this is the default behavior in a Python `list` (and a JavaScript `Array`). This is the (well, a) reason that Python's `numpy` is configured to return slices instead of values. JavaScript's `math.js` is (probably?) similar in this respect."
   ]
  },
  {
   "cell_type": "markdown",
   "metadata": {},
   "source": [
    "### Python recursive square matrix multiplication implementation"
   ]
  },
  {
   "cell_type": "code",
   "execution_count": 12,
   "metadata": {
    "collapsed": true
   },
   "outputs": [],
   "source": [
    "import numpy as np\n",
    "\n",
    "def square_matrix_multiply_recursive(a, b):\n",
    "    a = np.array(a)\n",
    "    b = np.array(b)\n",
    "    num_rows = a.shape[0]\n",
    "    if num_rows == 1:\n",
    "        return a[0,0]*b[0,0]\n",
    "    else:\n",
    "        pivot = num_rows / 2\n",
    "        c11 = square_matrix_multiply_recursive(a[:pivot, :pivot], b[:pivot, :pivot]) +\\\n",
    "              square_matrix_multiply_recursive(a[:pivot, pivot:], b[pivot:, :pivot])\n",
    "        c12 = square_matrix_multiply_recursive(a[:pivot, :pivot], b[:pivot, pivot:]) +\\\n",
    "              square_matrix_multiply_recursive(a[:pivot, pivot:], b[pivot:, pivot:])\n",
    "        c21 = square_matrix_multiply_recursive(a[pivot:, :pivot], b[:pivot, :pivot]) +\\\n",
    "              square_matrix_multiply_recursive(a[pivot:, pivot:], b[pivot:, :pivot])\n",
    "        c22 = square_matrix_multiply_recursive(a[pivot:, :pivot], b[:pivot, pivot:]) +\\\n",
    "              square_matrix_multiply_recursive(a[pivot:, pivot:], b[pivot:, pivot:])\n",
    "        return np.vstack([np.hstack([c11, c12]), np.hstack([c21, c22])])\n",
    "#         return np.concatenate(np.array([[c11, c12], [c21, c22]]))"
   ]
  },
  {
   "cell_type": "code",
   "execution_count": 22,
   "metadata": {
    "collapsed": false
   },
   "outputs": [
    {
     "data": {
      "text/plain": [
       "array([[ True]], dtype=bool)"
      ]
     },
     "execution_count": 22,
     "metadata": {},
     "output_type": "execute_result"
    }
   ],
   "source": [
    "square_matrix_multiply_recursive([[1]], [[1]]) == np.matmul([[1]], [[1]])"
   ]
  },
  {
   "cell_type": "code",
   "execution_count": 14,
   "metadata": {
    "collapsed": false
   },
   "outputs": [
    {
     "name": "stderr",
     "output_type": "stream",
     "text": [
      "C:\\Users\\Alex\\Anaconda3\\envs\\algos\\lib\\site-packages\\ipykernel\\__main__.py:11: VisibleDeprecationWarning: using a non-integer number instead of an integer will result in an error in the future\n",
      "C:\\Users\\Alex\\Anaconda3\\envs\\algos\\lib\\site-packages\\ipykernel\\__main__.py:12: VisibleDeprecationWarning: using a non-integer number instead of an integer will result in an error in the future\n",
      "C:\\Users\\Alex\\Anaconda3\\envs\\algos\\lib\\site-packages\\ipykernel\\__main__.py:13: VisibleDeprecationWarning: using a non-integer number instead of an integer will result in an error in the future\n",
      "C:\\Users\\Alex\\Anaconda3\\envs\\algos\\lib\\site-packages\\ipykernel\\__main__.py:14: VisibleDeprecationWarning: using a non-integer number instead of an integer will result in an error in the future\n"
     ]
    },
    {
     "data": {
      "text/plain": [
       "array([[ True,  True],\n",
       "       [ True,  True]], dtype=bool)"
      ]
     },
     "execution_count": 14,
     "metadata": {},
     "output_type": "execute_result"
    }
   ],
   "source": [
    "square_matrix_multiply_recursive([[0, 1],[1,2]], [[0, 1],[1,2]]) == np.matmul([[0, 1],[1,2]], [[0, 1],[1,2]])"
   ]
  },
  {
   "cell_type": "code",
   "execution_count": 21,
   "metadata": {
    "collapsed": false
   },
   "outputs": [
    {
     "name": "stderr",
     "output_type": "stream",
     "text": [
      "C:\\Users\\Alex\\Anaconda3\\envs\\algos\\lib\\site-packages\\ipykernel\\__main__.py:11: VisibleDeprecationWarning: using a non-integer number instead of an integer will result in an error in the future\n",
      "C:\\Users\\Alex\\Anaconda3\\envs\\algos\\lib\\site-packages\\ipykernel\\__main__.py:12: VisibleDeprecationWarning: using a non-integer number instead of an integer will result in an error in the future\n",
      "C:\\Users\\Alex\\Anaconda3\\envs\\algos\\lib\\site-packages\\ipykernel\\__main__.py:13: VisibleDeprecationWarning: using a non-integer number instead of an integer will result in an error in the future\n",
      "C:\\Users\\Alex\\Anaconda3\\envs\\algos\\lib\\site-packages\\ipykernel\\__main__.py:14: VisibleDeprecationWarning: using a non-integer number instead of an integer will result in an error in the future\n"
     ]
    },
    {
     "data": {
      "text/plain": [
       "array([[ True,  True,  True,  True],\n",
       "       [ True,  True,  True,  True],\n",
       "       [ True,  True,  True,  True],\n",
       "       [ True,  True,  True,  True]], dtype=bool)"
      ]
     },
     "execution_count": 21,
     "metadata": {},
     "output_type": "execute_result"
    }
   ],
   "source": [
    "square_matrix_multiply_recursive([[0,1,2,3],[1,2,3,4],[0,1,2,3],[1,2,3,4]], [[0,1,2,3],[1,2,3,4],[0,1,2,3],[1,2,3,4]]) ==\\\n",
    "    np.matmul([[0,1,2,3],[1,2,3,4],[0,1,2,3],[1,2,3,4]], [[0,1,2,3],[1,2,3,4],[0,1,2,3],[1,2,3,4]])"
   ]
  }
 ],
 "metadata": {
  "anaconda-cloud": {},
  "kernelspec": {
   "display_name": "Python [conda env:algos]",
   "language": "python",
   "name": "conda-env-algos-py"
  },
  "language_info": {
   "codemirror_mode": {
    "name": "ipython",
    "version": 3
   },
   "file_extension": ".py",
   "mimetype": "text/x-python",
   "name": "python",
   "nbconvert_exporter": "python",
   "pygments_lexer": "ipython3",
   "version": "3.5.2"
  }
 },
 "nbformat": 4,
 "nbformat_minor": 2
}
